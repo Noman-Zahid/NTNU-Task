{
  "nbformat": 4,
  "nbformat_minor": 0,
  "metadata": {
    "colab": {
      "name": "Noman_Task_2_NTNU.ipynb",
      "provenance": [],
      "collapsed_sections": []
    },
    "kernelspec": {
      "name": "python3",
      "display_name": "Python 3"
    },
    "language_info": {
      "name": "python"
    }
  },
  "cells": [
    {
      "cell_type": "code",
      "metadata": {
        "id": "7NGE2hEOV2TG"
      },
      "source": [
        "import librosa\n",
        "import pandas as pd\n",
        "import numpy as np\n",
        "import matplotlib.pyplot as plt #make matplotlib work like MATLAB\n",
        "%matplotlib inline\n",
        "import os  #module in Python provides functions for interacting with the operating system\n",
        "from PIL import Image #module provides a class with the same name which is used to represent a image, Python Imaging Library (PIL)\n",
        "import pathlib  #module offers classes representing filesystem paths\n",
        "import  csv     \n",
        "from sklearn.model_selection import train_test_split   #Split arrays or matrices into random train and test subsets\n",
        "from sklearn.preprocessing import LabelEncoder, StandardScaler    #Encode target labels with value between 0 and n_classes-1.\n",
        "import keras    #deep learning framework, AI Neural Networks\n",
        "from keras import layers      #makes blocks of layers for neural networks\n",
        "from keras.layers import Conv1D, MaxPooling1D, Flatten #convolution,max pooling operation for temporal data,  to get a copy of an given array collapsed into one dimension\n",
        "import keras\n",
        "from keras.models import Sequential #appropriate for a plain stack of layers where each layer has exactly one input tensor and one output tensor.\n",
        "import warnings\n",
        "from collections import deque\n",
        "\n",
        "warnings.filterwarnings('ignore')"
      ],
      "execution_count": 57,
      "outputs": []
    },
    {
      "cell_type": "code",
      "metadata": {
        "id": "2WTV3iHgTFTz"
      },
      "source": [
        "data_set = '/content/drive/MyDrive/Colab Notebooks/My_DataSet'        #Dadat folder call\n"
      ],
      "execution_count": 58,
      "outputs": []
    },
    {
      "cell_type": "code",
      "metadata": {
        "id": "nQxnpnF0eJeT"
      },
      "source": [
        "header = 'filename chroma_stft rmse spectral_centroid spectral_bandwidth rolloff zero_crossing_rate'\n",
        "for i in range(1, 21):\n",
        "    header += f' mfcc{i}'   #used for the feature extraction \n",
        "header += ' label'\n",
        "header = header.split()"
      ],
      "execution_count": 59,
      "outputs": []
    },
    {
      "cell_type": "code",
      "metadata": {
        "id": "cW5_44Ycdzgc"
      },
      "source": [
        "file = open('dataset.csv', 'w', newline='')\n",
        "with file:\n",
        "    writer = csv.writer(file)\n",
        "    writer.writerow(header)"
      ],
      "execution_count": 60,
      "outputs": []
    },
    {
      "cell_type": "code",
      "metadata": {
        "id": "J4su5GouV2Vm"
      },
      "source": [
        "sr = 44100           #fs >= 2f, nyquist theorem\n",
        "for dir in os.listdir(data_set):      #to extract whole directory like subfolders and their data\n",
        "  subpath = os.path.join(data_set,dir)\n",
        "  for audio_file in os.listdir(subpath):\n",
        "    # print(os.path.join(subpath,audio_file))\n",
        "    audio_file_path = os.path.join(subpath,audio_file)\n",
        "\n",
        "    y, sr = librosa.load(audio_file_path, sr=sr)      #sampling\n",
        "    rms = librosa.feature.rms(y=y)       #root mesan square rms\n",
        "    chroma_stft = librosa.feature.chroma_stft(y=y, sr=sr)  #Compute a chromagram from a waveform or power spectrogram\n",
        "    spec_cent = librosa.feature.spectral_centroid(y=y, sr=sr)   #computes the spectral centroid from the (squared) magnitude spectrum\n",
        "    spec_bw = librosa.feature.spectral_bandwidth(y=y, sr=sr)    \n",
        "    rolloff = librosa.feature.spectral_rolloff(y=y, sr=sr)\n",
        "    zcr = librosa.feature.zero_crossing_rate(y)   #rate at which a signal changes from positive to zero to negative or from negative to zero to positive\n",
        "    mfcc = librosa.feature.mfcc(y=y, sr=sr)\n",
        "    to_append = f' {np.mean(chroma_stft)} {np.mean(rms)} {np.mean(spec_cent)} {np.mean(spec_bw)} {np.mean(rolloff)} {np.mean(zcr)}'    \n",
        "    for e in mfcc:\n",
        "      to_append += f' {np.mean(e)}'     #f-string\n",
        "    to_append += f' {dir}'\n",
        "    # print(audio_file_path)\n",
        "    \n",
        "    file = open('dataset.csv', 'a', newline='')\n",
        "    with file:\n",
        "      writer = csv.writer(file)\n",
        "      features = deque(to_append.split())\n",
        "      features.appendleft(audio_file_path)\n",
        "      features = list(features)\n",
        "      writer.writerow(features)\n",
        "    # break\n",
        "    # x , sr = librosa.load(audio_file_path, sr=44100)\n",
        "    # print(type(x), type(sr))#<class 'numpy.ndarray'> <class 'int'>\n",
        "    # print(x.shape, sr)#(94316,) 22050\n",
        "    # break\n",
        "\n"
      ],
      "execution_count": 61,
      "outputs": []
    },
    {
      "cell_type": "code",
      "metadata": {
        "id": "gOT3O3XS5fHG"
      },
      "source": [
        ""
      ],
      "execution_count": 61,
      "outputs": []
    },
    {
      "cell_type": "code",
      "metadata": {
        "colab": {
          "base_uri": "https://localhost:8080/"
        },
        "id": "l3U-u7vjk_ON",
        "outputId": "adc8aa1b-98c8-4a9b-8660-0a150fce5ba6"
      },
      "source": [
        "data = pd.read_csv('/content/dataset.csv')\n",
        "data.head()# Dropping unneccesary columns\n",
        "data = data.drop(['filename'],axis=1)#Encoding the Labels\n",
        "genre_list = data.iloc[:, -1]\n",
        "print(genre_list)\n",
        "encoder = LabelEncoder()\n",
        "y = encoder.fit_transform(genre_list)#Scaling the Feature columns\n",
        "print(y)\n",
        "scaler = StandardScaler()\n",
        "X = scaler.fit_transform(np.array(data.iloc[:, :-1], dtype = float))#Dividing data into training and Testing set\n",
        "X_train, X_test, y_train, y_test = train_test_split(X, y, test_size=0.3)\n"
      ],
      "execution_count": 62,
      "outputs": [
        {
          "output_type": "stream",
          "text": [
            "0       Baji\n",
            "1       Baji\n",
            "2       Baji\n",
            "3       Baji\n",
            "4       Baji\n",
            "       ...  \n",
            "145    Chief\n",
            "146    Chief\n",
            "147    Chief\n",
            "148    Chief\n",
            "149    Chief\n",
            "Name: label, Length: 150, dtype: object\n",
            "[0 0 0 0 0 0 0 0 0 0 0 0 0 0 0 0 0 0 0 0 0 0 0 0 0 0 0 0 0 0 0 0 0 0 0 0 0\n",
            " 0 0 0 0 0 0 0 0 0 0 0 0 0 2 2 2 2 2 2 2 2 2 2 2 2 2 2 2 2 2 2 2 2 2 2 2 2\n",
            " 2 2 2 2 2 2 2 2 2 2 2 2 2 2 2 2 2 2 2 2 2 2 2 2 2 2 1 1 1 1 1 1 1 1 1 1 1\n",
            " 1 1 1 1 1 1 1 1 1 1 1 1 1 1 1 1 1 1 1 1 1 1 1 1 1 1 1 1 1 1 1 1 1 1 1 1 1\n",
            " 1 1]\n"
          ],
          "name": "stdout"
        }
      ]
    },
    {
      "cell_type": "code",
      "metadata": {
        "id": "hlIYT2fdV2er"
      },
      "source": [
        "model = Sequential()\n",
        "model.add(layers.Dense(256, activation='relu', input_shape=(X_train.shape[1],)))\n",
        "model.add(layers.Dense(128, activation='relu'))\n",
        "model.add(layers.Dense(64, activation='relu'))\n",
        "model.add(layers.Dense(3, activation='softmax'))\n",
        "model.compile(optimizer='adam',\n",
        "              loss='sparse_categorical_crossentropy',\n",
        "              metrics=['accuracy'])"
      ],
      "execution_count": 63,
      "outputs": []
    },
    {
      "cell_type": "code",
      "metadata": {
        "colab": {
          "base_uri": "https://localhost:8080/"
        },
        "id": "m1yYkLccoMw1",
        "outputId": "fcc0729c-f3fc-409e-d97d-61cc9f5cd392"
      },
      "source": [
        "classifier = model.fit(X_train,\n",
        "                    y_train,\n",
        "                    epochs=30,\n",
        "                    batch_size=64)"
      ],
      "execution_count": 64,
      "outputs": [
        {
          "output_type": "stream",
          "text": [
            "Epoch 1/30\n",
            "2/2 [==============================] - 0s 7ms/step - loss: 1.1201 - accuracy: 0.4193\n",
            "Epoch 2/30\n",
            "2/2 [==============================] - 0s 5ms/step - loss: 0.7511 - accuracy: 0.9590\n",
            "Epoch 3/30\n",
            "2/2 [==============================] - 0s 7ms/step - loss: 0.4963 - accuracy: 0.9821\n",
            "Epoch 4/30\n",
            "2/2 [==============================] - 0s 8ms/step - loss: 0.3212 - accuracy: 0.9821\n",
            "Epoch 5/30\n",
            "2/2 [==============================] - 0s 3ms/step - loss: 0.1933 - accuracy: 1.0000\n",
            "Epoch 6/30\n",
            "2/2 [==============================] - 0s 7ms/step - loss: 0.1218 - accuracy: 1.0000\n",
            "Epoch 7/30\n",
            "2/2 [==============================] - 0s 7ms/step - loss: 0.0624 - accuracy: 1.0000\n",
            "Epoch 8/30\n",
            "2/2 [==============================] - 0s 7ms/step - loss: 0.0369 - accuracy: 1.0000\n",
            "Epoch 9/30\n",
            "2/2 [==============================] - 0s 7ms/step - loss: 0.0230 - accuracy: 1.0000\n",
            "Epoch 10/30\n",
            "2/2 [==============================] - 0s 5ms/step - loss: 0.0118 - accuracy: 1.0000\n",
            "Epoch 11/30\n",
            "2/2 [==============================] - 0s 12ms/step - loss: 0.0079 - accuracy: 1.0000\n",
            "Epoch 12/30\n",
            "2/2 [==============================] - 0s 5ms/step - loss: 0.0070 - accuracy: 1.0000\n",
            "Epoch 13/30\n",
            "2/2 [==============================] - 0s 6ms/step - loss: 0.0039 - accuracy: 1.0000\n",
            "Epoch 14/30\n",
            "2/2 [==============================] - 0s 5ms/step - loss: 0.0032 - accuracy: 1.0000\n",
            "Epoch 15/30\n",
            "2/2 [==============================] - 0s 6ms/step - loss: 0.0023 - accuracy: 1.0000\n",
            "Epoch 16/30\n",
            "2/2 [==============================] - 0s 5ms/step - loss: 0.0014 - accuracy: 1.0000\n",
            "Epoch 17/30\n",
            "2/2 [==============================] - 0s 5ms/step - loss: 0.0013 - accuracy: 1.0000\n",
            "Epoch 18/30\n",
            "2/2 [==============================] - 0s 9ms/step - loss: 0.0011 - accuracy: 1.0000\n",
            "Epoch 19/30\n",
            "2/2 [==============================] - 0s 6ms/step - loss: 8.7373e-04 - accuracy: 1.0000\n",
            "Epoch 20/30\n",
            "2/2 [==============================] - 0s 5ms/step - loss: 7.5742e-04 - accuracy: 1.0000\n",
            "Epoch 21/30\n",
            "2/2 [==============================] - 0s 5ms/step - loss: 5.8235e-04 - accuracy: 1.0000\n",
            "Epoch 22/30\n",
            "2/2 [==============================] - 0s 5ms/step - loss: 4.4948e-04 - accuracy: 1.0000\n",
            "Epoch 23/30\n",
            "2/2 [==============================] - 0s 5ms/step - loss: 3.2603e-04 - accuracy: 1.0000\n",
            "Epoch 24/30\n",
            "2/2 [==============================] - 0s 12ms/step - loss: 4.1960e-04 - accuracy: 1.0000\n",
            "Epoch 25/30\n",
            "2/2 [==============================] - 0s 6ms/step - loss: 3.1188e-04 - accuracy: 1.0000\n",
            "Epoch 26/30\n",
            "2/2 [==============================] - 0s 11ms/step - loss: 2.9760e-04 - accuracy: 1.0000\n",
            "Epoch 27/30\n",
            "2/2 [==============================] - 0s 5ms/step - loss: 3.1782e-04 - accuracy: 1.0000\n",
            "Epoch 28/30\n",
            "2/2 [==============================] - 0s 9ms/step - loss: 2.9131e-04 - accuracy: 1.0000\n",
            "Epoch 29/30\n",
            "2/2 [==============================] - 0s 8ms/step - loss: 2.2931e-04 - accuracy: 1.0000\n",
            "Epoch 30/30\n",
            "2/2 [==============================] - 0s 8ms/step - loss: 2.7074e-04 - accuracy: 1.0000\n"
          ],
          "name": "stdout"
        }
      ]
    },
    {
      "cell_type": "code",
      "metadata": {
        "id": "I3oXzPZ-poZp"
      },
      "source": [
        "# # select a single sample\n",
        "# i=0;\n",
        "# correct =0\n",
        "# incorrect = 0\n",
        "# for Xsample in X_test:\n",
        "  \n",
        "#   # make a probabilistic prediction\n",
        "#   yhat_prob = model.predict_proba(Xsample.reshape(1,-1))\n",
        "#   # make a classification prediction\n",
        "#   yhat_class = model.predict(Xsample.reshape(1,-1))\n",
        "#   if yhat_class == y_test[i]:\n",
        "#     correct +=1;\n",
        "#   else:\n",
        "#     incorrect+=1\n",
        "#   i+=1\n",
        "# print(correct)\n",
        "# print(incorrect)"
      ],
      "execution_count": 65,
      "outputs": []
    },
    {
      "cell_type": "code",
      "metadata": {
        "id": "sZSmnPqt2gXP"
      },
      "source": [
        "#get the accuracy of the trained model on the test dataset (unseen)\n",
        "\n",
        "# test_loss, test_acc = model.evaluate(X_test,  y_test, verbose=2)\n",
        "# print('Test accuracy:', test_acc)\n",
        "\n",
        "#get the predictions for the test dataset\n",
        "predictions = model.predict(X_test)"
      ],
      "execution_count": 66,
      "outputs": []
    },
    {
      "cell_type": "code",
      "metadata": {
        "id": "NG70KyUj1p6F"
      },
      "source": [
        "#function to pretty plot confusion matrix (modified from SKLEARN)\n",
        "\n",
        "import itertools\n",
        "def plot_confusion_matrix(cm, classes,\n",
        "                        normalize=False,\n",
        "                        title='Confusion matrix',\n",
        "                        cmap=plt.cm.Blues):\n",
        "\n",
        "    plt.imshow(cm, interpolation='nearest', cmap=cmap)\n",
        "    plt.title(title)\n",
        "    plt.colorbar()\n",
        "    tick_marks = np.arange(len(classes))\n",
        "    plt.xticks(tick_marks, classes, rotation=45)\n",
        "    plt.yticks(tick_marks, classes)\n",
        "\n",
        "    if normalize:\n",
        "        cm = cm.astype('float') / cm.sum(axis=1)[:, np.newaxis]\n",
        "        print(\"Normalized confusion matrix\")\n",
        "    else:\n",
        "        print('Confusion matrix, without normalization')\n",
        "\n",
        "    print(cm)\n",
        "\n",
        "    thresh = cm.max() / 2.\n",
        "    for i, j in itertools.product(range(cm.shape[0]), range(cm.shape[1])):\n",
        "        plt.text(j, i, cm[i, j],\n",
        "            horizontalalignment=\"center\",\n",
        "            color=\"white\" if cm[i, j] > thresh else \"black\")\n",
        "\n",
        "    plt.tight_layout()\n",
        "    plt.ylabel('True label')\n",
        "    plt.xlabel('Predicted label')"
      ],
      "execution_count": 67,
      "outputs": []
    },
    {
      "cell_type": "code",
      "metadata": {
        "colab": {
          "base_uri": "https://localhost:8080/",
          "height": 580
        },
        "id": "ryAmmn8N1zEH",
        "outputId": "94625672-929f-40b8-d0ae-997e3aedacf6"
      },
      "source": [
        "class_names = ['Noman','Baji','Chief']\n",
        "from sklearn.metrics import classification_report, confusion_matrix\n",
        "matrix = confusion_matrix(y_test, predictions.argmax(axis=1))\n",
        "plot_confusion_matrix(cm=matrix, classes=class_names, title='Confusion Matrix')\n",
        "\n",
        "print('\\nClassification Report')\n",
        "print(classification_report(y_test, predictions.argmax(axis=1), target_names=class_names))"
      ],
      "execution_count": 68,
      "outputs": [
        {
          "output_type": "stream",
          "text": [
            "Confusion matrix, without normalization\n",
            "[[14  0  0]\n",
            " [ 0 16  0]\n",
            " [ 0  0 15]]\n",
            "\n",
            "Classification Report\n",
            "              precision    recall  f1-score   support\n",
            "\n",
            "       Noman       1.00      1.00      1.00        14\n",
            "        Baji       1.00      1.00      1.00        16\n",
            "       Chief       1.00      1.00      1.00        15\n",
            "\n",
            "    accuracy                           1.00        45\n",
            "   macro avg       1.00      1.00      1.00        45\n",
            "weighted avg       1.00      1.00      1.00        45\n",
            "\n"
          ],
          "name": "stdout"
        },
        {
          "output_type": "display_data",
          "data": {
            "image/png": "[encoded data removed]",
            "text/plain": [
              "<Figure size 432x288 with 2 Axes>"
            ]
          },
          "metadata": {
            "tags": [],
            "needs_background": "light"
          }
        }
      ]
    },
    {
      "cell_type": "code",
      "metadata": {
        "colab": {
          "base_uri": "https://localhost:8080/"
        },
        "id": "9_r90S7if-T6",
        "outputId": "69e6e4f0-83ad-47aa-9cc5-d936a4d832a5"
      },
      "source": [
        "X_train = X_train.reshape(X_train.shape[0],X_train.shape[1],1)\n",
        "X_test = X_test.reshape(X_test.shape[0],X_test.shape[1],1)\n",
        "X_train.shape"
      ],
      "execution_count": 69,
      "outputs": [
        {
          "output_type": "execute_result",
          "data": {
            "text/plain": [
              "(105, 26, 1)"
            ]
          },
          "metadata": {
            "tags": []
          },
          "execution_count": 69
        }
      ]
    },
    {
      "cell_type": "code",
      "metadata": {
        "id": "FxtuR_KNa93t"
      },
      "source": [
        "V_CNN = Sequential()    #Vanilla CNN\n",
        "V_CNN.add(Conv1D(filters=256, kernel_size=3, activation='relu',input_shape=(26,1) ))\n",
        "V_CNN.add(MaxPooling1D(pool_size=2))\n",
        "V_CNN.add(Conv1D(filters=128, kernel_size=3, activation='relu' ))\n",
        "V_CNN.add(MaxPooling1D(pool_size=2))\n",
        "V_CNN.add(Flatten())\n",
        "V_CNN.add(layers.Dense(32, activation='relu'))\n",
        "V_CNN.add(layers.Dense(3, activation='softmax'))\n",
        "V_CNN.compile(loss='sparse_categorical_crossentropy', optimizer='adam', metrics=['accuracy'])"
      ],
      "execution_count": 70,
      "outputs": []
    },
    {
      "cell_type": "code",
      "metadata": {
        "id": "qjrQFXs4a-Hy"
      },
      "source": [
        "import tensorflow as tf\n",
        "V_CNN.compile(optimizer='adam',\n",
        "              loss=tf.keras.losses.SparseCategoricalCrossentropy(from_logits=True),\n",
        "              metrics=['accuracy'])\n",
        "\n"
      ],
      "execution_count": 71,
      "outputs": []
    },
    {
      "cell_type": "code",
      "metadata": {
        "colab": {
          "base_uri": "https://localhost:8080/"
        },
        "id": "GOWHEWVOa-KD",
        "outputId": "ceab89bc-71e3-4a8c-fe03-d6c5280f4a7b"
      },
      "source": [
        "classifier = V_CNN.fit(X_train,\n",
        "                    y_train,\n",
        "                    epochs=30, batch_size=64)\n"
      ],
      "execution_count": 72,
      "outputs": [
        {
          "output_type": "stream",
          "text": [
            "Epoch 1/30\n",
            "2/2 [==============================] - 0s 21ms/step - loss: 1.1065 - accuracy: 0.2963\n",
            "Epoch 2/30\n",
            "2/2 [==============================] - 0s 17ms/step - loss: 0.9875 - accuracy: 0.7926\n",
            "Epoch 3/30\n",
            "2/2 [==============================] - 0s 21ms/step - loss: 0.8760 - accuracy: 0.8348\n",
            "Epoch 4/30\n",
            "2/2 [==============================] - 0s 17ms/step - loss: 0.7628 - accuracy: 0.8527\n",
            "Epoch 5/30\n",
            "2/2 [==============================] - 0s 17ms/step - loss: 0.6604 - accuracy: 0.8874\n",
            "Epoch 6/30\n",
            "2/2 [==============================] - 0s 17ms/step - loss: 0.5396 - accuracy: 0.9526\n",
            "Epoch 7/30\n",
            "2/2 [==============================] - 0s 21ms/step - loss: 0.4453 - accuracy: 0.9474\n",
            "Epoch 8/30\n",
            "2/2 [==============================] - 0s 17ms/step - loss: 0.3667 - accuracy: 0.9653\n",
            "Epoch 9/30\n",
            "2/2 [==============================] - 0s 16ms/step - loss: 0.2741 - accuracy: 0.9705\n",
            "Epoch 10/30\n",
            "2/2 [==============================] - 0s 16ms/step - loss: 0.1999 - accuracy: 0.9757\n",
            "Epoch 11/30\n",
            "2/2 [==============================] - 0s 16ms/step - loss: 0.1422 - accuracy: 0.9821\n",
            "Epoch 12/30\n",
            "2/2 [==============================] - 0s 16ms/step - loss: 0.1095 - accuracy: 0.9821\n",
            "Epoch 13/30\n",
            "2/2 [==============================] - 0s 17ms/step - loss: 0.0814 - accuracy: 0.9821\n",
            "Epoch 14/30\n",
            "2/2 [==============================] - 0s 17ms/step - loss: 0.0649 - accuracy: 0.9769\n",
            "Epoch 15/30\n",
            "2/2 [==============================] - 0s 28ms/step - loss: 0.0476 - accuracy: 0.9769\n",
            "Epoch 16/30\n",
            "2/2 [==============================] - 0s 22ms/step - loss: 0.0356 - accuracy: 0.9821\n",
            "Epoch 17/30\n",
            "2/2 [==============================] - 0s 20ms/step - loss: 0.0248 - accuracy: 0.9937\n",
            "Epoch 18/30\n",
            "2/2 [==============================] - 0s 20ms/step - loss: 0.0231 - accuracy: 0.9884\n",
            "Epoch 19/30\n",
            "2/2 [==============================] - 0s 17ms/step - loss: 0.0190 - accuracy: 1.0000\n",
            "Epoch 20/30\n",
            "2/2 [==============================] - 0s 18ms/step - loss: 0.0144 - accuracy: 1.0000\n",
            "Epoch 21/30\n",
            "2/2 [==============================] - 0s 18ms/step - loss: 0.0083 - accuracy: 1.0000\n",
            "Epoch 22/30\n",
            "2/2 [==============================] - 0s 17ms/step - loss: 0.0097 - accuracy: 1.0000\n",
            "Epoch 23/30\n",
            "2/2 [==============================] - 0s 16ms/step - loss: 0.0052 - accuracy: 1.0000\n",
            "Epoch 24/30\n",
            "2/2 [==============================] - 0s 16ms/step - loss: 0.0065 - accuracy: 1.0000\n",
            "Epoch 25/30\n",
            "2/2 [==============================] - 0s 16ms/step - loss: 0.0049 - accuracy: 1.0000\n",
            "Epoch 26/30\n",
            "2/2 [==============================] - 0s 18ms/step - loss: 0.0042 - accuracy: 1.0000\n",
            "Epoch 27/30\n",
            "2/2 [==============================] - 0s 20ms/step - loss: 0.0037 - accuracy: 1.0000\n",
            "Epoch 28/30\n",
            "2/2 [==============================] - 0s 17ms/step - loss: 0.0035 - accuracy: 1.0000\n",
            "Epoch 29/30\n",
            "2/2 [==============================] - 0s 18ms/step - loss: 0.0030 - accuracy: 1.0000\n",
            "Epoch 30/30\n",
            "2/2 [==============================] - 0s 17ms/step - loss: 0.0029 - accuracy: 1.0000\n"
          ],
          "name": "stdout"
        }
      ]
    },
    {
      "cell_type": "code",
      "metadata": {
        "id": "uNxDYrLYa-Ni",
        "colab": {
          "base_uri": "https://localhost:8080/"
        },
        "outputId": "e802737e-f15f-4565-da2f-2c7ae8564881"
      },
      "source": [
        "\n",
        "#get the predictions for the test dataset\n",
        "V_CNN_predictions = V_CNN.predict(X_test)"
      ],
      "execution_count": 73,
      "outputs": [
        {
          "output_type": "stream",
          "text": [
            "WARNING:tensorflow:5 out of the last 13 calls to <function Model.make_predict_function.<locals>.predict_function at 0x7f4f6e6b94d0> triggered tf.function retracing. Tracing is expensive and the excessive number of tracings could be due to (1) creating @tf.function repeatedly in a loop, (2) passing tensors with different shapes, (3) passing Python objects instead of tensors. For (1), please define your @tf.function outside of the loop. For (2), @tf.function has experimental_relax_shapes=True option that relaxes argument shapes that can avoid unnecessary retracing. For (3), please refer to https://www.tensorflow.org/guide/function#controlling_retracing and https://www.tensorflow.org/api_docs/python/tf/function for  more details.\n"
          ],
          "name": "stdout"
        }
      ]
    },
    {
      "cell_type": "code",
      "metadata": {
        "colab": {
          "base_uri": "https://localhost:8080/",
          "height": 580
        },
        "id": "H0X6wpe_iMmf",
        "outputId": "08ba2dfc-814b-43ed-e4c9-4859cfe54878"
      },
      "source": [
        "matrix = confusion_matrix(y_test, V_CNN_predictions.argmax(axis=1))\n",
        "plot_confusion_matrix(cm=matrix, classes=class_names, title='Confusion Matrix')\n",
        "\n",
        "print('\\nClassification Report')\n",
        "print(classification_report(y_test, V_CNN_predictions.argmax(axis=1), target_names=class_names))"
      ],
      "execution_count": 74,
      "outputs": [
        {
          "output_type": "stream",
          "text": [
            "Confusion matrix, without normalization\n",
            "[[14  0  0]\n",
            " [ 0 15  1]\n",
            " [ 0  0 15]]\n",
            "\n",
            "Classification Report\n",
            "              precision    recall  f1-score   support\n",
            "\n",
            "       Noman       1.00      1.00      1.00        14\n",
            "        Baji       1.00      0.94      0.97        16\n",
            "       Chief       0.94      1.00      0.97        15\n",
            "\n",
            "    accuracy                           0.98        45\n",
            "   macro avg       0.98      0.98      0.98        45\n",
            "weighted avg       0.98      0.98      0.98        45\n",
            "\n"
          ],
          "name": "stdout"
        },
        {
          "output_type": "display_data",
          "data": {
            "image/png": "[encoded data removed]",
            "text/plain": [
              "<Figure size 432x288 with 2 Axes>"
            ]
          },
          "metadata": {
            "tags": [],
            "needs_background": "light"
          }
        }
      ]
    },
    {
      "cell_type": "code",
      "metadata": {
        "id": "q3VKmzwZnrU5"
      },
      "source": [
        "Noman_test = '/content/drive/MyDrive/Colab Notebooks/Noman_test'"
      ],
      "execution_count": 75,
      "outputs": []
    },
    {
      "cell_type": "code",
      "metadata": {
        "id": "u0bfIuYBnroP"
      },
      "source": [
        "header = 'filename chroma_stft rmse spectral_centroid spectral_bandwidth rolloff zero_crossing_rate'\n",
        "for i in range(1, 21):\n",
        "    header += f' mfcc{i}'\n",
        "header += ' label'\n",
        "header = header.split()"
      ],
      "execution_count": 76,
      "outputs": []
    },
    {
      "cell_type": "code",
      "metadata": {
        "id": "1E4bqu6Ynr0l"
      },
      "source": [
        "file = open('Noman_test.csv', 'w', newline='')\n",
        "with file:\n",
        "    writer = csv.writer(file)\n",
        "    writer.writerow(header)"
      ],
      "execution_count": 77,
      "outputs": []
    },
    {
      "cell_type": "code",
      "metadata": {
        "id": "KXO4M7e6oVnE"
      },
      "source": [
        "sr = 44100           #fs >= 2f, nyquist theorem\n",
        "for filepath in os.listdir(Noman_test):\n",
        "  # subpath = os.path.join(data_set,dir)\n",
        "  # for audio_file in os.listdir(subpath):\n",
        "    # print(os.path.join(subpath,audio_file))\n",
        "    audio_file_path = os.path.join(Noman_test,filepath)\n",
        "    # print(audio_file_path)\n",
        "    # break\n",
        "    y, sr = librosa.load(audio_file_path, sr=sr)\n",
        "    rms = librosa.feature.rms(y=y)       #root mesan square\n",
        "    chroma_stft = librosa.feature.chroma_stft(y=y, sr=sr)\n",
        "    spec_cent = librosa.feature.spectral_centroid(y=y, sr=sr)\n",
        "    spec_bw = librosa.feature.spectral_bandwidth(y=y, sr=sr)\n",
        "    rolloff = librosa.feature.spectral_rolloff(y=y, sr=sr)\n",
        "    zcr = librosa.feature.zero_crossing_rate(y)\n",
        "    mfcc = librosa.feature.mfcc(y=y, sr=sr)\n",
        "    to_append = f' {np.mean(chroma_stft)} {np.mean(rms)} {np.mean(spec_cent)} {np.mean(spec_bw)} {np.mean(rolloff)} {np.mean(zcr)}'    \n",
        "    for e in mfcc:\n",
        "      to_append += f' {np.mean(e)}'\n",
        "    to_append += ' Noman'\n",
        "    # print(audio_file_path)\n",
        "    \n",
        "    file = open('Noman_test.csv', 'a', newline='')\n",
        "    with file:\n",
        "      writer = csv.writer(file)\n",
        "      features = deque(to_append.split())\n",
        "      features.appendleft(audio_file_path)\n",
        "      features = list(features)\n",
        "      writer.writerow(features)"
      ],
      "execution_count": 78,
      "outputs": []
    },
    {
      "cell_type": "code",
      "metadata": {
        "colab": {
          "base_uri": "https://localhost:8080/"
        },
        "id": "zoxL6dNmoVu7",
        "outputId": "3b8a96f1-87ea-42e4-f77f-23e8aed55c3b"
      },
      "source": [
        "data = pd.read_csv('/content/Noman_test.csv')\n",
        "data.head()# Dropping unneccesary columns\n",
        "data = data.drop(['filename'],axis=1)#Encoding the Labels\n",
        "genre_list = data.iloc[:, -1]\n",
        "# print(genre_list)\n",
        "encoder = LabelEncoder()\n",
        "y = [2,2,2,2,2] # Class labels For Noman encodded\n",
        "scaler = StandardScaler()\n",
        "X = scaler.fit_transform(np.array(data.iloc[:, :-1], dtype = float))#Dividing data into training and Testing set\n",
        "X"
      ],
      "execution_count": 79,
      "outputs": [
        {
          "output_type": "execute_result",
          "data": {
            "text/plain": [
              "array([[ 1.52670466, -1.32865886,  0.18142118,  1.02926717,  0.42084052,\n",
              "        -0.12687427, -1.41437168, -0.48168322,  0.08247012,  1.54673781,\n",
              "         1.39952539, -0.11038209,  1.5358316 ,  1.89669622, -0.5831365 ,\n",
              "         1.71347939,  1.45384046,  0.95038862, -0.59699382,  1.20515135,\n",
              "         1.68555788, -0.54082242, -1.55120113,  0.42676997,  0.30987564,\n",
              "        -1.11756013],\n",
              "       [-0.18130178, -0.59081521, -0.52460787, -0.52443998, -0.61677274,\n",
              "        -0.41280845, -0.36096159,  0.35932031,  0.57984957, -1.03862462,\n",
              "         0.75818571,  1.4290956 , -0.07153506, -0.916428  , -0.77907081,\n",
              "        -0.60207087,  0.31193796,  0.30318873, -0.53714303, -0.92871624,\n",
              "        -0.65997871, -1.06100967,  0.30704593,  0.06092513, -1.55728455,\n",
              "        -0.89796952],\n",
              "       [ 0.63585888, -0.29176156,  1.87553048,  1.22896588,  1.77776997,\n",
              "         1.94948643, -0.2299742 , -1.0162033 , -1.33515491,  0.78645958,\n",
              "         0.03884064, -0.88750191,  0.28571412,  0.04182152, -1.00837304,\n",
              "        -0.02542407,  0.33661201,  1.0938074 , -0.35240067, -1.27751863,\n",
              "         0.59199388,  1.82427382,  0.27601722,  0.08631724,  1.40878458,\n",
              "         0.90629533],\n",
              "       [-1.35756885,  1.52733852, -0.776651  , -1.43794622, -0.6665942 ,\n",
              "        -0.80293635,  1.63737505,  1.78543164, -0.81423023, -0.83752707,\n",
              "        -0.93617296, -1.23169393, -1.5902685 , -0.37208367,  1.52171156,\n",
              "         0.20238403, -0.56864352, -1.33696494, -0.50692975,  1.02587899,\n",
              "        -0.62907189,  0.22719785, -0.50453275, -1.81048242, -0.5711707 ,\n",
              "         1.42298876],\n",
              "       [-0.62369292,  0.68389712, -0.75569279, -0.29584685, -0.91524355,\n",
              "        -0.60686736,  0.36793243, -0.64686543,  1.48706545, -0.4570457 ,\n",
              "        -1.26037879,  0.80048234, -0.15974216, -0.65000607,  0.8488688 ,\n",
              "        -1.28836849, -1.5337469 , -1.01041981,  1.99346727, -0.02479548,\n",
              "        -0.98850116, -0.44963958,  1.47267072,  1.23647008,  0.40979502,\n",
              "        -0.31375444]])"
            ]
          },
          "metadata": {
            "tags": []
          },
          "execution_count": 79
        }
      ]
    },
    {
      "cell_type": "code",
      "metadata": {
        "colab": {
          "base_uri": "https://localhost:8080/"
        },
        "id": "062PWuCVoV6f",
        "outputId": "5f120472-10ff-4701-db0a-baac24ff9f0e"
      },
      "source": [
        "# class 0 for Baji\n",
        "# class 1 for chief\n",
        "# class 2 for Noman\n",
        "predictions = model.predict(X)\n",
        "predictions=  predictions.argmax(axis=1)\n",
        "predictions\n"
      ],
      "execution_count": 80,
      "outputs": [
        {
          "output_type": "execute_result",
          "data": {
            "text/plain": [
              "array([2, 0, 2, 1, 2])"
            ]
          },
          "metadata": {
            "tags": []
          },
          "execution_count": 80
        }
      ]
    },
    {
      "cell_type": "code",
      "metadata": {
        "colab": {
          "base_uri": "https://localhost:8080/"
        },
        "id": "qiw35a8xq0ZB",
        "outputId": "13100d09-11ff-4cc8-8f6f-14d0e09f51d2"
      },
      "source": [
        "# select a single sample\n",
        "i=0;\n",
        "correct =0\n",
        "incorrect = 0\n",
        "for x in predictions:\n",
        "  if x == y[i]:\n",
        "    correct+=1\n",
        "  else:\n",
        "    incorrect+=1\n",
        "\n",
        " \n",
        "print('correct = ',correct)\n",
        "print('incorrect =',incorrect)"
      ],
      "execution_count": 81,
      "outputs": [
        {
          "output_type": "stream",
          "text": [
            "correct =  3\n",
            "incorrect = 2\n"
          ],
          "name": "stdout"
        }
      ]
    },
    {
      "cell_type": "code",
      "metadata": {
        "id": "cbPQrkt1rK7a"
      },
      "source": [
        "X = X.reshape(X.shape[0],X.shape[1],1)\n"
      ],
      "execution_count": 82,
      "outputs": []
    },
    {
      "cell_type": "code",
      "metadata": {
        "colab": {
          "base_uri": "https://localhost:8080/"
        },
        "id": "k_EmQ9VdxRYX",
        "outputId": "a41b0f67-505a-417e-d098-b97d864f66b0"
      },
      "source": [
        "V_CNN_predictions = V_CNN.predict(X)\n",
        "V_CNN_predictions=  V_CNN_predictions.argmax(axis=1)\n",
        "V_CNN_predictions\n"
      ],
      "execution_count": 83,
      "outputs": [
        {
          "output_type": "execute_result",
          "data": {
            "text/plain": [
              "array([2, 0, 2, 0, 2])"
            ]
          },
          "metadata": {
            "tags": []
          },
          "execution_count": 83
        }
      ]
    },
    {
      "cell_type": "code",
      "metadata": {
        "colab": {
          "base_uri": "https://localhost:8080/"
        },
        "id": "lPql1H6PrK-2",
        "outputId": "6fe45891-b30d-402f-9507-db32eb809011"
      },
      "source": [
        "# select a single sample\n",
        "i=0;\n",
        "correct =0\n",
        "incorrect = 0\n",
        "for x in V_CNN_predictions:\n",
        "  if x == y[i]:\n",
        "    correct+=1\n",
        "  else:\n",
        "    incorrect+=1\n",
        "\n",
        " \n",
        "print('correct = ',correct)\n",
        "print('incorrect =',incorrect)"
      ],
      "execution_count": 84,
      "outputs": [
        {
          "output_type": "stream",
          "text": [
            "correct =  3\n",
            "incorrect = 2\n"
          ],
          "name": "stdout"
        }
      ]
    }
  ]
}